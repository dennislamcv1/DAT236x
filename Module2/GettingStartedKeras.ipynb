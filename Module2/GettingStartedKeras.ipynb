{
 "cells": [
  {
   "cell_type": "markdown",
   "metadata": {},
   "source": [
    "# Deep Learning Explained\n",
    "\n",
    "# Module 2 - Lab - Introduction to Keras \n",
    "\n",
    "# 1.0 Getting started with Keras\n",
    "\n",
    "This notebook will provide a first look at using the Keras package to define, train and evaluate deep learning models with Keras. By the end of this lesson you will be able to work with basic feedforward architecture multi-layer neural nets. Feedforward networks are one of a class of basic models called **sequential models** which are easy to define with Keras. Further, some basic regularization is introduced. Additional regularization methods are covered in a subsequent lesson. \n",
    "\n",
    "The details of feedforward models and regularization will be introduced in other lessons. For now, focus on becoming comfortable with using Keras so you are prepared for the rest of the labs in this course. \n",
    "\n",
    "****\n",
    "**Note:** This notebook was constructed and tested using Anaconda 3 with Python 3.7. It is assumed that the standard Anaconda stack has been installed.\n",
    "****"
   ]
  },
  {
   "cell_type": "markdown",
   "metadata": {},
   "source": [
    "### 1.1 Keras architecture\n",
    "\n",
    "Keras is a wrapper over other deep learning frameworks. Keras provides consistent and simplified APIs for using these underlying frameworks. In this lesson we will focus on the widely used Python API. \n",
    "\n",
    "Presently, Keras supports TensorFlow, CNTK and Theano. For the labs for this course, we will be using Keras as a wrapper on top of TensorFlow.\n",
    "\n",
    "If you have not yet installed Keras and TensorFlow, follow the [installation instructions from the Keras site](https://keras.io/#installation)."
   ]
  },
  {
   "cell_type": "markdown",
   "metadata": {},
   "source": [
    "### 1.2 Overview of Keras documentation\n",
    "\n",
    "One of the many nice features of Keras is complete and useful documentation. Complete documentation including installation instructions can be found on the [Keras website](https://keras.io/#keras-the-python-deep-learning-library). As you learn to work with Keras, you will want to refer to the well-indexed documentation and examples on this site. \n",
    "\n",
    "The book [Deep Learning with Python](https://www.manning.com/books/deep-learning-with-python) by François Chollet, the creator of Keras, provides in-depth examples and discussion on a wide range of deep learning applications. "
   ]
  },
  {
   "cell_type": "markdown",
   "metadata": {},
   "source": [
    "## 2.0 A first feed-forward Keras example\n",
    "\n",
    "Without further adu, let's try an example. We will build a simple feedforward neural network to classify handwritten digits from the famous MNIST data set. MNIST contains 60,000 labeled training images and 10,000 test images. Many people consider the MNIST dataset as the 'hello world' problem of deep learning. "
   ]
  },
  {
   "cell_type": "markdown",
   "metadata": {},
   "source": [
    "### 2.1 Loading the MNIST data set\n",
    "\n",
    "MNIST is built in too the `keras.datasets` package. We only need to import this package and then load it. \n",
    "\n",
    "The first step is to import the packages we will need for the rest of this notebook. Execute the code in the cell below to load these packages. This code should execute without errors or warnings if everything is installed correctly. "
   ]
  },
  {
   "cell_type": "code",
   "execution_count": 1,
   "metadata": {},
   "outputs": [
    {
     "name": "stderr",
     "output_type": "stream",
     "text": [
      "Using TensorFlow backend.\n"
     ]
    }
   ],
   "source": [
    "from keras.datasets import mnist\n",
    "import keras.utils.np_utils as ku\n",
    "import keras.models as models\n",
    "import keras.layers as layers\n",
    "from keras import regularizers\n",
    "from keras.optimizers import rmsprop\n",
    "import numpy as np\n",
    "import numpy.random as nr\n",
    "from tensorflow import random\n",
    "import matplotlib.pyplot as plt\n",
    "%matplotlib inline"
   ]
  },
  {
   "cell_type": "markdown",
   "metadata": {},
   "source": [
    "Notice that the TensorFlow backend has been loaded along with various Keras packages. Keras is making calls to TensorFlow to perform compuations.\n",
    "\n",
    "Now, load the training and testing images and corresponding labels by executing the coded in the cell below. The `load_data` method creates two tuples of the images and labels for training and testing models. "
   ]
  },
  {
   "cell_type": "code",
   "execution_count": 2,
   "metadata": {},
   "outputs": [
    {
     "name": "stdout",
     "output_type": "stream",
     "text": [
      "Downloading data from https://s3.amazonaws.com/img-datasets/mnist.npz\n",
      "11493376/11490434 [==============================] - 4s 0us/step\n"
     ]
    }
   ],
   "source": [
    "(train_images, train_labels), (test_images, test_labels) = mnist.load_data()"
   ]
  },
  {
   "cell_type": "markdown",
   "metadata": {},
   "source": [
    "With the data loaded, let's have a peak at some of the content. The images of the handwritten digits are represented as rectangular arrays of dimension $28x28$. You can see this by executing the code in the cell below."
   ]
  },
  {
   "cell_type": "code",
   "execution_count": 3,
   "metadata": {},
   "outputs": [
    {
     "name": "stdout",
     "output_type": "stream",
     "text": [
      "(28, 28)\n"
     ]
    }
   ],
   "source": [
    "print(train_images[4].shape)"
   ]
  },
  {
   "cell_type": "markdown",
   "metadata": {},
   "source": [
    "The handwritten images are all gray-scale, so do not have a color dimension. \n",
    "\n",
    "The code in the cell below displays 4 of the 60,000 images of handwritten digits along with their labels. Execute this code and examine the results.  "
   ]
  },
  {
   "cell_type": "code",
   "execution_count": 4,
   "metadata": {},
   "outputs": [
    {
     "data": {
      "image/png": "[encoded data removed]",
      "text/plain": [
       "<Figure size 432x288 with 1 Axes>"
      ]
     },
     "metadata": {
      "needs_background": "light"
     },
     "output_type": "display_data"
    },
    {
     "name": "stdout",
     "output_type": "stream",
     "text": [
      "Label = 2\n"
     ]
    },
    {
     "data": {
      "image/png": "[encoded data removed]",
      "text/plain": [
       "<Figure size 432x288 with 1 Axes>"
      ]
     },
     "metadata": {
      "needs_background": "light"
     },
     "output_type": "display_data"
    },
    {
     "name": "stdout",
     "output_type": "stream",
     "text": [
      "Label = 4\n"
     ]
    },
    {
     "data": {
      "image/png": "[encoded data removed]",
      "text/plain": [
       "<Figure size 432x288 with 1 Axes>"
      ]
     },
     "metadata": {
      "needs_background": "light"
     },
     "output_type": "display_data"
    },
    {
     "name": "stdout",
     "output_type": "stream",
     "text": [
      "Label = 6\n"
     ]
    },
    {
     "data": {
      "image/png": "[encoded data removed]",
      "text/plain": [
       "<Figure size 432x288 with 1 Axes>"
      ]
     },
     "metadata": {
      "needs_background": "light"
     },
     "output_type": "display_data"
    },
    {
     "name": "stdout",
     "output_type": "stream",
     "text": [
      "Label = 8\n"
     ]
    }
   ],
   "source": [
    "for i in range(5, 20, 4):\n",
    "    plt.imshow(train_images[i], cmap=plt.cm.binary)\n",
    "    plt.show()\n",
    "    print('Label = ' + str(train_labels[i]))"
   ]
  },
  {
   "cell_type": "markdown",
   "metadata": {},
   "source": [
    "### 2.2 Prepare the data for training.\n",
    "\n",
    "As is the case with all machine learning problems, preparing the data is an important step. Without careful data preparation even the best models will produce poor results, or even fail to execute. \n",
    "\n",
    "The MNIST images are stored as a 3-d tensor. Each image tensor has dimensions $6000\\ x\\ 28\\ x\\ 28$. However, to train a neural network on these images we must flatten this representation so that each image is a vector of length $28 * 28$. The result will be a 2-d tensor of dimensions $60000\\ x\\ (28*28)$.\n",
    "\n",
    "Further, models created with Keras, and most other deep learning frameworks, operate on floating point numbers. The gray scale pixel values of the images are coded as integers in the range $\\{ 0, 255 \\}$. These pixel values must be coerced to floating point and then standardized to be in a range $\\{ 0.0, 1.0 \\}$. As is the case for training many machine learning models, it is best to use standardized values for training deep neural networks. \n",
    "\n",
    "The code in the cell below flattens the images and converts the pixel values to a standardized floating point number. Execute this code."
   ]
  },
  {
   "cell_type": "code",
   "execution_count": 5,
   "metadata": {
    "scrolled": true
   },
   "outputs": [
    {
     "name": "stdout",
     "output_type": "stream",
     "text": [
      "(60000, 28, 28) (60000,)\n",
      "(60000, 784)\n",
      "float32\n"
     ]
    }
   ],
   "source": [
    "print(train_images.shape, train_labels.shape)\n",
    "train_images = train_images.reshape((60000, 28*28)).astype('float32')/255\n",
    "print(train_images.shape)\n",
    "print(train_images.dtype)"
   ]
  },
  {
   "cell_type": "markdown",
   "metadata": {},
   "source": [
    "Notice the original shape and resulting shape of the training image tensor. In addition, the array is now of type `float32`. \n",
    "\n",
    "Execute the code in the cell below to apply the  same transformation to the test images. "
   ]
  },
  {
   "cell_type": "code",
   "execution_count": 6,
   "metadata": {},
   "outputs": [
    {
     "name": "stdout",
     "output_type": "stream",
     "text": [
      "(10000, 28, 28) (10000,)\n",
      "(10000, 784)\n"
     ]
    }
   ],
   "source": [
    "print(test_images.shape, test_labels.shape)\n",
    "test_images = test_images.reshape((10000, 28*28)).astype('float32')/255\n",
    "print(test_images.shape)"
   ]
  },
  {
   "cell_type": "markdown",
   "metadata": {},
   "source": [
    "Since we are working on a classification problem, the label values must be of a categorical type. Execute the code in the cell below and examine the coding of  these labels. "
   ]
  },
  {
   "cell_type": "code",
   "execution_count": 7,
   "metadata": {
    "scrolled": true
   },
   "outputs": [
    {
     "name": "stdout",
     "output_type": "stream",
     "text": [
      "[2 1 3 ... 5 6 8]\n"
     ]
    }
   ],
   "source": [
    "print(train_labels[5:,])"
   ]
  },
  {
   "cell_type": "markdown",
   "metadata": {},
   "source": [
    "The labels are coded as integers corresponding to the digit in the image. These values must be coerced to a categorical type. For Keras, categorical types must be **one hot encoded**. One hot encoding is a set of binary columns, one for each category.       \n",
    "\n",
    "Fortunately the `to_categorical` method in the `keras.utils.np_utils` package does just this. Execute the code in the cell below and examine the printed results. "
   ]
  },
  {
   "cell_type": "code",
   "execution_count": 8,
   "metadata": {},
   "outputs": [
    {
     "name": "stdout",
     "output_type": "stream",
     "text": [
      "[[0. 0. 1. ... 0. 0. 0.]\n",
      " [0. 1. 0. ... 0. 0. 0.]\n",
      " [0. 0. 0. ... 0. 0. 0.]\n",
      " ...\n",
      " [0. 0. 0. ... 0. 0. 0.]\n",
      " [0. 0. 0. ... 0. 0. 0.]\n",
      " [0. 0. 0. ... 0. 1. 0.]]\n"
     ]
    }
   ],
   "source": [
    "train_labels = ku.to_categorical(train_labels)\n",
    "print(train_labels[5:,])"
   ]
  },
  {
   "cell_type": "markdown",
   "metadata": {},
   "source": [
    "Notice that the label values have been converted from integers to a set of **10 dummy variables** of the one hot encoding. The columns of the dummy variables represent digits in the range $\\{ 0,9 \\}$. One dummy variable per case will be coded as $1$ and the rest coded as $0$. For example the first row in the example above encodes a $2$, and the second row encodes a $1$.\n",
    "\n",
    "Execute the code in the cell below to coerce the test labels to dummy variables. "
   ]
  },
  {
   "cell_type": "code",
   "execution_count": 9,
   "metadata": {},
   "outputs": [],
   "source": [
    "test_labels = ku.to_categorical(test_labels)"
   ]
  },
  {
   "cell_type": "markdown",
   "metadata": {},
   "source": [
    "### 2.3  Defining a sequential model\n",
    "\n",
    "The data is prepared, so it is time to start defining a neural nework model. We are using a simple feedforward model which is one type of sequential model Keras can create. There is a general receipe for defining sequential Keras models:\n",
    "\n",
    "1. Define a sequential model object.\n",
    "2. Define one or more hidden layers.\n",
    "3. Define an output layer. \n",
    "\n",
    "You will find a [quick start guide to Keras sequential models](https://keras.io/getting-started/sequential-model-guide/) in the Keras documentation \n",
    "\n",
    "Speficially in this case, the squential model is defined as follows:\n",
    "1. A sequential model object `nn` is defined. \n",
    "2. A single hidden layer is defined. \n",
    "  - This layer is dense (fully connected) with 512 units. \n",
    "  - The activation of each unit is rectilinear.\n",
    "  - The hidden layer is expecting an input tensor of $28*28$ by an undefined number of cases (images). \n",
    "3. The output layer has 10 hidden units. \n",
    "  - We need 10 units since there are 10 categories of handwritten digits we are classifing. \n",
    "  - This is a **Multinomial** classification problem so we are using softmax activation. \n",
    "  \n",
    "Execute this code to define the model. "
   ]
  },
  {
   "cell_type": "code",
   "execution_count": 10,
   "metadata": {},
   "outputs": [],
   "source": [
    "nn = models.Sequential()\n",
    "nn.add(layers.Dense(512, activation = 'relu', input_shape = (28*28, )))\n",
    "nn.add(layers.Dense(10, activation = 'softmax'))"
   ]
  },
  {
   "cell_type": "markdown",
   "metadata": {},
   "source": [
    "### 2.4 Training and evaluating the sequential model\n",
    "\n",
    "With a defined model it is time to train and evaluate it. First, the model must be compiled by executing the code below. This call specifies the following:\n",
    "\n",
    "1. Specify an optimizer. \n",
    "2. Specify a loss function. In this case we are performing Multinomial classification so we are using `categorical_crossentropy`.\n",
    "3. Specify one or more metrics used to evaluate the performance of the model. In this case we are using just one metric, accuracy. \n",
    "\n",
    "We will discuss the technical details of the model in subsequent lessons. "
   ]
  },
  {
   "cell_type": "code",
   "execution_count": 11,
   "metadata": {},
   "outputs": [],
   "source": [
    "nn.compile(optimizer = 'rmsprop', loss = 'categorical_crossentropy', metrics = ['accuracy'])"
   ]
  },
  {
   "cell_type": "markdown",
   "metadata": {},
   "source": [
    "Now, the model is ready to be trained using the `fit` method by executing the code in the cell below. The `fit` method has several arguments:\n",
    "\n",
    "1. The training features.\n",
    "2. The training labels.\n",
    "3. The number of epochs (iterations) over which the model is trained.\n",
    "4. The batch size used for the optimizer. The meaning of this will be discussed in the lesson on optimizaton. "
   ]
  },
  {
   "cell_type": "code",
   "execution_count": 16,
   "metadata": {
    "scrolled": false
   },
   "outputs": [
    {
     "name": "stdout",
     "output_type": "stream",
     "text": [
      "Epoch 1/5\n",
      "60000/60000 [==============================] - 9s 152us/step - loss: 0.2581 - accuracy: 0.9247\n",
      "Epoch 2/5\n",
      "60000/60000 [==============================] - 6s 94us/step - loss: 0.1042 - accuracy: 0.9691\n",
      "Epoch 3/5\n",
      "60000/60000 [==============================] - 5s 89us/step - loss: 0.0680 - accuracy: 0.9797\n",
      "Epoch 4/5\n",
      "60000/60000 [==============================] - 6s 101us/step - loss: 0.0494 - accuracy: 0.9850\n",
      "Epoch 5/5\n",
      "60000/60000 [==============================] - 5s 89us/step - loss: 0.0370 - accuracy: 0.9888\n"
     ]
    },
    {
     "data": {
      "text/plain": [
       "<keras.callbacks.callbacks.History at 0x1a7bd25a5c8>"
      ]
     },
     "execution_count": 16,
     "metadata": {},
     "output_type": "execute_result"
    }
   ],
   "source": [
    "nr.seed(9898)\n",
    "np.random.seed(9777)\n",
    "nn.fit(train_images, train_labels, epochs = 5, batch_size = 128)"
   ]
  },
  {
   "cell_type": "markdown",
   "metadata": {},
   "source": [
    "Notice that the loss declines and the accuracy increases with each training epoch. However, since neural networks tend to be over-fit, these improved figures may or may not indicate that the model is actually getting better. Keep in mind that the model may simply be learning the training data. \n",
    "\n",
    "It is necessary to test the model on independent data set. The `evaluate` method allows you to do just this. Execute the code in the cell below and compare the results to training results.  "
   ]
  },
  {
   "cell_type": "code",
   "execution_count": 17,
   "metadata": {},
   "outputs": [
    {
     "name": "stdout",
     "output_type": "stream",
     "text": [
      "10000/10000 [==============================] - 1s 75us/step\n"
     ]
    },
    {
     "data": {
      "text/plain": [
       "[0.06694969768216834, 0.9803000092506409]"
      ]
     },
     "execution_count": 17,
     "metadata": {},
     "output_type": "execute_result"
    }
   ],
   "source": [
    "nn.evaluate(test_images, test_labels)"
   ]
  },
  {
   "cell_type": "markdown",
   "metadata": {},
   "source": [
    "It appears that the model is over-fit since the evaluation loss and accuracy are a bit worse than observed in training. "
   ]
  },
  {
   "cell_type": "markdown",
   "metadata": {},
   "source": [
    "## 3.0 Training over epochs\n",
    "\n",
    "In order to determine at what point a model is overfit during training it is necessary to evaluate the model after each training epoch. A `history` object is created which contains the history of various metrics during the training or fitting process. \n",
    "\n",
    "Notice that the `validation_data` argument must be specified so that performance of the model can be computed at the end or each epoch. The printed history of the training will include the validation loss and validation accuracy for each epoch. \n",
    "\n",
    "Expect execution of this code to take a while. "
   ]
  },
  {
   "cell_type": "code",
   "execution_count": 19,
   "metadata": {},
   "outputs": [
    {
     "name": "stdout",
     "output_type": "stream",
     "text": [
      "Model: \"sequential_3\"\n",
      "_________________________________________________________________\n",
      "Layer (type)                 Output Shape              Param #   \n",
      "=================================================================\n",
      "dense_5 (Dense)              (None, 512)               401920    \n",
      "_________________________________________________________________\n",
      "dense_6 (Dense)              (None, 10)                5130      \n",
      "=================================================================\n",
      "Total params: 407,050\n",
      "Trainable params: 407,050\n",
      "Non-trainable params: 0\n",
      "_________________________________________________________________\n",
      "Train on 60000 samples, validate on 10000 samples\n",
      "Epoch 1/10\n",
      "60000/60000 [==============================] - 6s 98us/step - loss: 0.2578 - accuracy: 0.9248 - val_loss: 0.1346 - val_accuracy: 0.9611\n",
      "Epoch 2/10\n",
      "60000/60000 [==============================] - 6s 97us/step - loss: 0.1037 - accuracy: 0.9694 - val_loss: 0.0880 - val_accuracy: 0.9745\n",
      "Epoch 3/10\n",
      "60000/60000 [==============================] - 5s 85us/step - loss: 0.0690 - accuracy: 0.9793 - val_loss: 0.0740 - val_accuracy: 0.9758\n",
      "Epoch 4/10\n",
      "60000/60000 [==============================] - 6s 92us/step - loss: 0.0490 - accuracy: 0.9853 - val_loss: 0.0694 - val_accuracy: 0.9803\n",
      "Epoch 5/10\n",
      "60000/60000 [==============================] - 6s 102us/step - loss: 0.0372 - accuracy: 0.9888 - val_loss: 0.0628 - val_accuracy: 0.9802\n",
      "Epoch 6/10\n",
      "60000/60000 [==============================] - 5s 87us/step - loss: 0.0290 - accuracy: 0.9913 - val_loss: 0.0617 - val_accuracy: 0.9815\n",
      "Epoch 7/10\n",
      "60000/60000 [==============================] - 6s 94us/step - loss: 0.0218 - accuracy: 0.9935 - val_loss: 0.0639 - val_accuracy: 0.9822\n",
      "Epoch 8/10\n",
      "60000/60000 [==============================] - 6s 96us/step - loss: 0.0168 - accuracy: 0.9951 - val_loss: 0.0696 - val_accuracy: 0.9796\n",
      "Epoch 9/10\n",
      "60000/60000 [==============================] - 5s 90us/step - loss: 0.0130 - accuracy: 0.9962 - val_loss: 0.0686 - val_accuracy: 0.9806\n",
      "Epoch 10/10\n",
      "60000/60000 [==============================] - 5s 88us/step - loss: 0.0101 - accuracy: 0.9972 - val_loss: 0.0702 - val_accuracy: 0.9808\n"
     ]
    }
   ],
   "source": [
    "## Define a sequential model and print a summary\n",
    "nnt = models.Sequential()\n",
    "nnt.add(layers.Dense(512, activation = 'relu', input_shape = (28*28, )))\n",
    "nnt.add(layers.Dense(10, activation = 'softmax'))\n",
    "nnt.summary()\n",
    "\n",
    "## Compile the model. \n",
    "nnt.compile(optimizer = 'rmsprop', loss = 'categorical_crossentropy', \n",
    "                metrics = ['accuracy'])\n",
    " \n",
    "## Fit the model saving the results to a history file    \n",
    "nr.seed(4678)\n",
    "np.random.seed(8866)\n",
    "history = nnt.fit(train_images, train_labels, \n",
    "                  epochs = 10, batch_size = 128,\n",
    "                  validation_data = (test_images, test_labels))"
   ]
  },
  {
   "cell_type": "markdown",
   "metadata": {},
   "source": [
    "To aid in understanding these figures it will help to make some plots comparing the training and evaluation performance as the training epochs evolve. The code in the next two cells does this is a somewhat primitive manner. The Numpy array is manually edited to include the training loss and training accuracy. \n",
    "\n",
    "The `plot_loss` and `plot_accuracy` functions, in the next two cell, plot the training loss or accuracy in blue and the test loss or accuracy in red. Execute the code and examine the plots. "
   ]
  },
  {
   "cell_type": "code",
   "execution_count": 20,
   "metadata": {},
   "outputs": [
    {
     "data": {
      "image/png": "[encoded data removed]",
      "text/plain": [
       "<Figure size 432x288 with 1 Axes>"
      ]
     },
     "metadata": {
      "needs_background": "light"
     },
     "output_type": "display_data"
    }
   ],
   "source": [
    "def plot_loss(history):\n",
    "    train_loss = history.history['loss']\n",
    "    test_loss = history.history['val_loss']\n",
    "    x = list(range(1, len(test_loss) + 1))\n",
    "    plt.plot(x, test_loss, color = 'red', label = 'test loss')\n",
    "    plt.plot(x, train_loss, label = 'traning loss')\n",
    "    plt.xlabel('Epoch')\n",
    "    plt.ylabel('Loss')\n",
    "    plt.title('Loss vs. Epoch')\n",
    "    plt.legend()\n",
    "    \n",
    "plot_loss(history)  "
   ]
  },
  {
   "cell_type": "code",
   "execution_count": 28,
   "metadata": {
    "scrolled": true
   },
   "outputs": [
    {
     "data": {
      "image/png": "[encoded data removed]",
      "text/plain": [
       "<Figure size 432x288 with 1 Axes>"
      ]
     },
     "metadata": {
      "needs_background": "light"
     },
     "output_type": "display_data"
    }
   ],
   "source": [
    "def plot_accuracy(history):\n",
    "    train_acc = history.history['val_loss']\n",
    "    test_acc = history.history['val_loss']\n",
    "    x = list(range(1, len(test_acc) + 1))\n",
    "    plt.plot(x, test_acc, color = 'red', label = 'test accuracy')\n",
    "    plt.plot(x, train_acc, label = 'training accuracy')  \n",
    "    plt.xlabel('Epoch')\n",
    "    plt.ylabel('Accuracy')\n",
    "    plt.title('Accuracy vs. Epoch')  \n",
    "    plt.legend(loc='lower right')\n",
    "    \n",
    "plot_accuracy(history)    "
   ]
  },
  {
   "cell_type": "markdown",
   "metadata": {},
   "source": [
    "Notice that the training loss and accuracy continue to improve throughout the epochs. However, the evaluation loss and accuracy only improve significantly for the first four, or perhaps 5, epochs. This is clear evidence that subsequent epochs are simply over-fitting the model. "
   ]
  },
  {
   "cell_type": "markdown",
   "metadata": {},
   "source": [
    "## 4.0 Adding hidden layers\n",
    "\n",
    "Next, we will add an additional hidden layer to the model. Additional layers add capacity to the model to represent complex function. However, the network becomes more susceptible to over fitting. Details of model capacity are discussed in other lessons.  \n",
    "\n",
    "The code in the cell below defines a model similar to the first one, but with a second layer defined. Notice that the definition of the two layer model is nearly the same as for the single layer model. In this case, the second layer has the same number of units and activation function as the first. \n",
    "\n",
    "However, notice that the `input_shape` does not need to be defined for hidden layers past the first. Keras will determine the dimensions of tensors passed between layers beyond the input. \n",
    "\n",
    "Expect execution of this code to take a while. "
   ]
  },
  {
   "cell_type": "code",
   "execution_count": 25,
   "metadata": {},
   "outputs": [
    {
     "name": "stdout",
     "output_type": "stream",
     "text": [
      "Model: \"sequential_5\"\n",
      "_________________________________________________________________\n",
      "Layer (type)                 Output Shape              Param #   \n",
      "=================================================================\n",
      "dense_10 (Dense)             (None, 512)               401920    \n",
      "_________________________________________________________________\n",
      "dense_11 (Dense)             (None, 512)               262656    \n",
      "_________________________________________________________________\n",
      "dense_12 (Dense)             (None, 10)                5130      \n",
      "=================================================================\n",
      "Total params: 669,706\n",
      "Trainable params: 669,706\n",
      "Non-trainable params: 0\n",
      "_________________________________________________________________\n",
      "Train on 60000 samples, validate on 10000 samples\n",
      "Epoch 1/20\n",
      "60000/60000 [==============================] - 9s 153us/step - loss: 0.2186 - accuracy: 0.9327 - val_loss: 0.1024 - val_accuracy: 0.9662\n",
      "Epoch 2/20\n",
      "60000/60000 [==============================] - 8s 138us/step - loss: 0.0825 - accuracy: 0.9750 - val_loss: 0.0777 - val_accuracy: 0.9750\n",
      "Epoch 3/20\n",
      "60000/60000 [==============================] - 8s 136us/step - loss: 0.0549 - accuracy: 0.9836 - val_loss: 0.0914 - val_accuracy: 0.9742\n",
      "Epoch 4/20\n",
      "60000/60000 [==============================] - 8s 137us/step - loss: 0.0395 - accuracy: 0.9879 - val_loss: 0.0817 - val_accuracy: 0.9803\n",
      "Epoch 5/20\n",
      "60000/60000 [==============================] - 8s 141us/step - loss: 0.0303 - accuracy: 0.9904 - val_loss: 0.0801 - val_accuracy: 0.9807\n",
      "Epoch 6/20\n",
      "60000/60000 [==============================] - 8s 139us/step - loss: 0.0232 - accuracy: 0.9931 - val_loss: 0.1035 - val_accuracy: 0.9766\n",
      "Epoch 7/20\n",
      "60000/60000 [==============================] - 8s 139us/step - loss: 0.0180 - accuracy: 0.9942 - val_loss: 0.0918 - val_accuracy: 0.9794\n",
      "Epoch 8/20\n",
      "60000/60000 [==============================] - 9s 142us/step - loss: 0.0159 - accuracy: 0.9951 - val_loss: 0.1042 - val_accuracy: 0.9805\n",
      "Epoch 9/20\n",
      "60000/60000 [==============================] - 8s 141us/step - loss: 0.0135 - accuracy: 0.9959 - val_loss: 0.0956 - val_accuracy: 0.9833\n",
      "Epoch 10/20\n",
      "60000/60000 [==============================] - 9s 153us/step - loss: 0.0116 - accuracy: 0.9965 - val_loss: 0.1178 - val_accuracy: 0.9803\n",
      "Epoch 11/20\n",
      "60000/60000 [==============================] - 10s 165us/step - loss: 0.0096 - accuracy: 0.9969 - val_loss: 0.1210 - val_accuracy: 0.9823\n",
      "Epoch 12/20\n",
      "60000/60000 [==============================] - 9s 143us/step - loss: 0.0089 - accuracy: 0.9975 - val_loss: 0.1307 - val_accuracy: 0.9814\n",
      "Epoch 13/20\n",
      "60000/60000 [==============================] - 9s 146us/step - loss: 0.0088 - accuracy: 0.9975 - val_loss: 0.1293 - val_accuracy: 0.9816\n",
      "Epoch 14/20\n",
      "60000/60000 [==============================] - 8s 138us/step - loss: 0.0076 - accuracy: 0.9978 - val_loss: 0.1300 - val_accuracy: 0.9828\n",
      "Epoch 15/20\n",
      "60000/60000 [==============================] - 9s 146us/step - loss: 0.0078 - accuracy: 0.9979 - val_loss: 0.1732 - val_accuracy: 0.9782\n",
      "Epoch 16/20\n",
      "60000/60000 [==============================] - 9s 143us/step - loss: 0.0058 - accuracy: 0.9984 - val_loss: 0.1476 - val_accuracy: 0.9812\n",
      "Epoch 17/20\n",
      "60000/60000 [==============================] - 11s 184us/step - loss: 0.0066 - accuracy: 0.9984 - val_loss: 0.1591 - val_accuracy: 0.9821\n",
      "Epoch 18/20\n",
      "60000/60000 [==============================] - 9s 150us/step - loss: 0.0057 - accuracy: 0.9984 - val_loss: 0.1740 - val_accuracy: 0.9815\n",
      "Epoch 19/20\n",
      "60000/60000 [==============================] - 9s 144us/step - loss: 0.0060 - accuracy: 0.9984 - val_loss: 0.1683 - val_accuracy: 0.9819\n",
      "Epoch 20/20\n",
      "60000/60000 [==============================] - 9s 153us/step - loss: 0.0044 - accuracy: 0.9988 - val_loss: 0.1711 - val_accuracy: 0.9819\n"
     ]
    }
   ],
   "source": [
    "## Define a sequential model\n",
    "nnt = models.Sequential()\n",
    "nnt.add(layers.Dense(512, activation = 'relu', input_shape = (28*28, )))\n",
    "nnt.add(layers.Dense(512, activation = 'relu'))\n",
    "nnt.add(layers.Dense(10, activation = 'softmax'))\n",
    "nnt.summary()\n",
    "\n",
    "## Compile the model\n",
    "nnt.compile(optimizer = 'rmsprop', loss = 'categorical_crossentropy', \n",
    "                metrics = ['accuracy'])\n",
    "    \n",
    "## Fit the model, saving the results to a history file.     \n",
    "nr.seed(2432)\n",
    "np.random.seed(5544)\n",
    "history = nnt.fit(train_images, train_labels, \n",
    "                  epochs = 20, batch_size = 128,\n",
    "                  validation_data = (test_images, test_labels))"
   ]
  },
  {
   "cell_type": "markdown",
   "metadata": {},
   "source": [
    "As before, we can best understand these results by creating plots of the loss and accuracy for training and evaluation vs. epoch. Execute the code in the two cells below to display these plots and study the results. "
   ]
  },
  {
   "cell_type": "code",
   "execution_count": 29,
   "metadata": {},
   "outputs": [
    {
     "data": {
      "image/png": "[encoded data removed]",
      "text/plain": [
       "<Figure size 432x288 with 1 Axes>"
      ]
     },
     "metadata": {
      "needs_background": "light"
     },
     "output_type": "display_data"
    }
   ],
   "source": [
    "plot_loss(history)  "
   ]
  },
  {
   "cell_type": "code",
   "execution_count": 30,
   "metadata": {
    "scrolled": true
   },
   "outputs": [
    {
     "data": {
      "image/png": "[encoded data removed]",
      "text/plain": [
       "<Figure size 432x288 with 1 Axes>"
      ]
     },
     "metadata": {
      "needs_background": "light"
     },
     "output_type": "display_data"
    }
   ],
   "source": [
    "plot_accuracy(history)    "
   ]
  },
  {
   "cell_type": "markdown",
   "metadata": {},
   "source": [
    "Notice that after epoch four the true (training) loss actually increases, whereas the training loss continues to decrease. This is a clear indication of overfitting. \n",
    "\n",
    "When compared to the single layer example, the over-fitting is more obvious. This should not be a suprise, since the number of weights has nearly doubled from the single layer model. "
   ]
  },
  {
   "cell_type": "markdown",
   "metadata": {},
   "source": [
    "## 5.0 Adding regularization to the model\n",
    "\n",
    "Regularization is used to prevent over-fitting of machine learning models including neural networks. The Keras `regularizers` package provides L1 and L2 regularization methods. The theory of regularization will be addressed in other lessons. In addition you can find [documentation on the Keras `regularizers` package](https://keras.io/regularizers/).  \n",
    "\n",
    "The code in the cell below adds the `kernel_regularizer` argument with the value of `regularizers.l2(0.01)` This adds a weight decay penalty of 0.01 to the model weights. \n",
    "\n",
    "Execute the code. Expect execution to take a while. "
   ]
  },
  {
   "cell_type": "code",
   "execution_count": 32,
   "metadata": {
    "scrolled": false
   },
   "outputs": [
    {
     "name": "stdout",
     "output_type": "stream",
     "text": [
      "Model: \"sequential_7\"\n",
      "_________________________________________________________________\n",
      "Layer (type)                 Output Shape              Param #   \n",
      "=================================================================\n",
      "dense_16 (Dense)             (None, 512)               401920    \n",
      "_________________________________________________________________\n",
      "dense_17 (Dense)             (None, 512)               262656    \n",
      "_________________________________________________________________\n",
      "dense_18 (Dense)             (None, 10)                5130      \n",
      "=================================================================\n",
      "Total params: 669,706\n",
      "Trainable params: 669,706\n",
      "Non-trainable params: 0\n",
      "_________________________________________________________________\n",
      "Train on 60000 samples, validate on 10000 samples\n",
      "Epoch 1/20\n",
      "60000/60000 [==============================] - 12s 201us/step - loss: 0.6436 - accuracy: 0.9212 - val_loss: 0.3219 - val_accuracy: 0.9549\n",
      "Epoch 2/20\n",
      "60000/60000 [==============================] - 14s 238us/step - loss: 0.2661 - accuracy: 0.9603 - val_loss: 0.2283 - val_accuracy: 0.9622\n",
      "Epoch 3/20\n",
      "60000/60000 [==============================] - 11s 186us/step - loss: 0.2067 - accuracy: 0.9673 - val_loss: 0.1991 - val_accuracy: 0.9680\n",
      "Epoch 4/20\n",
      "60000/60000 [==============================] - 11s 177us/step - loss: 0.1803 - accuracy: 0.9704 - val_loss: 0.2430 - val_accuracy: 0.9489\n",
      "Epoch 5/20\n",
      "60000/60000 [==============================] - 12s 207us/step - loss: 0.1644 - accuracy: 0.9732 - val_loss: 0.1808 - val_accuracy: 0.9654\n",
      "Epoch 6/20\n",
      "60000/60000 [==============================] - 11s 177us/step - loss: 0.1517 - accuracy: 0.9755 - val_loss: 0.1593 - val_accuracy: 0.9729\n",
      "Epoch 7/20\n",
      "60000/60000 [==============================] - 11s 188us/step - loss: 0.1426 - accuracy: 0.9765 - val_loss: 0.1631 - val_accuracy: 0.9712\n",
      "Epoch 8/20\n",
      "60000/60000 [==============================] - 12s 198us/step - loss: 0.1362 - accuracy: 0.9783 - val_loss: 0.1466 - val_accuracy: 0.9743\n",
      "Epoch 9/20\n",
      "60000/60000 [==============================] - 10s 171us/step - loss: 0.1317 - accuracy: 0.9783 - val_loss: 0.1392 - val_accuracy: 0.9760\n",
      "Epoch 10/20\n",
      "60000/60000 [==============================] - 9s 154us/step - loss: 0.1278 - accuracy: 0.9786 - val_loss: 0.1329 - val_accuracy: 0.9788\n",
      "Epoch 11/20\n",
      "60000/60000 [==============================] - 9s 155us/step - loss: 0.1251 - accuracy: 0.9793 - val_loss: 0.1340 - val_accuracy: 0.9742\n",
      "Epoch 12/20\n",
      "60000/60000 [==============================] - 10s 164us/step - loss: 0.1210 - accuracy: 0.9802 - val_loss: 0.1368 - val_accuracy: 0.9751\n",
      "Epoch 13/20\n",
      "60000/60000 [==============================] - 10s 161us/step - loss: 0.1191 - accuracy: 0.9805 - val_loss: 0.1459 - val_accuracy: 0.9714\n",
      "Epoch 14/20\n",
      "60000/60000 [==============================] - 10s 169us/step - loss: 0.1173 - accuracy: 0.9806 - val_loss: 0.1383 - val_accuracy: 0.9735\n",
      "Epoch 15/20\n",
      "60000/60000 [==============================] - 10s 162us/step - loss: 0.1151 - accuracy: 0.9814 - val_loss: 0.1378 - val_accuracy: 0.9757\n",
      "Epoch 16/20\n",
      "60000/60000 [==============================] - 10s 170us/step - loss: 0.1136 - accuracy: 0.9814 - val_loss: 0.1400 - val_accuracy: 0.9733\n",
      "Epoch 17/20\n",
      "60000/60000 [==============================] - 13s 220us/step - loss: 0.1127 - accuracy: 0.9809 - val_loss: 0.1407 - val_accuracy: 0.9728\n",
      "Epoch 18/20\n",
      "60000/60000 [==============================] - 11s 179us/step - loss: 0.1107 - accuracy: 0.9814 - val_loss: 0.1382 - val_accuracy: 0.9744\n",
      "Epoch 19/20\n",
      "60000/60000 [==============================] - 12s 206us/step - loss: 0.1091 - accuracy: 0.9815 - val_loss: 0.1193 - val_accuracy: 0.9790\n",
      "Epoch 20/20\n",
      "60000/60000 [==============================] - 14s 236us/step - loss: 0.1091 - accuracy: 0.9811 - val_loss: 0.1281 - val_accuracy: 0.9762\n"
     ]
    }
   ],
   "source": [
    "## Difine the layers of the sequential model and print a summary\n",
    "nnt = models.Sequential()\n",
    "nnt.add(layers.Dense(512, activation = 'relu', input_shape = (28*28, ),\n",
    "                        kernel_regularizer=regularizers.l2(0.001)))\n",
    "nnt.add(layers.Dense(512, activation = 'relu', kernel_regularizer=regularizers.l2(0.001)))\n",
    "nnt.add(layers.Dense(10, activation = 'softmax'))\n",
    "nnt.summary()\n",
    "\n",
    "## Define an optimzer object and compile the model\n",
    "optimizer = rmsprop()\n",
    "nnt.compile(optimizer = optimizer, loss = 'categorical_crossentropy', metrics = ['accuracy'])\n",
    "    \n",
    "## Fit the compiled model    \n",
    "nr.seed(8765)\n",
    "np.random.seed(7654)\n",
    "history = nnt.fit(train_images, train_labels, \n",
    "                  epochs = 20, batch_size = 128,\n",
    "                  validation_data = (test_images, test_labels))"
   ]
  },
  {
   "cell_type": "markdown",
   "metadata": {},
   "source": [
    "Once again, we can best understand these results by creating plots of the loss and accuracy for training and evaluation vs. epoch. Execute the code in the two cells below to display these plots and study the results. "
   ]
  },
  {
   "cell_type": "code",
   "execution_count": 33,
   "metadata": {
    "scrolled": false
   },
   "outputs": [
    {
     "data": {
      "image/png": "[encoded data removed]",
      "text/plain": [
       "<Figure size 432x288 with 1 Axes>"
      ]
     },
     "metadata": {
      "needs_background": "light"
     },
     "output_type": "display_data"
    }
   ],
   "source": [
    "plot_loss(history)  "
   ]
  },
  {
   "cell_type": "code",
   "execution_count": 34,
   "metadata": {
    "scrolled": true
   },
   "outputs": [
    {
     "data": {
      "image/png": "[encoded data removed]",
      "text/plain": [
       "<Figure size 432x288 with 1 Axes>"
      ]
     },
     "metadata": {
      "needs_background": "light"
     },
     "output_type": "display_data"
    }
   ],
   "source": [
    "plot_accuracy(history)    "
   ]
  },
  {
   "cell_type": "markdown",
   "metadata": {},
   "source": [
    "Compare these results to the previous un-regularized model. "
   ]
  },
  {
   "cell_type": "code",
   "execution_count": null,
   "metadata": {},
   "outputs": [],
   "source": []
  }
 ],
 "metadata": {
  "anaconda-cloud": {},
  "kernelspec": {
   "display_name": "Python 3",
   "language": "python",
   "name": "python3"
  },
  "language_info": {
   "codemirror_mode": {
    "name": "ipython",
    "version": 3
   },
   "file_extension": ".py",
   "mimetype": "text/x-python",
   "name": "python",
   "nbconvert_exporter": "python",
   "pygments_lexer": "ipython3",
   "version": "3.7.6"
  }
 },
 "nbformat": 4,
 "nbformat_minor": 1
}
